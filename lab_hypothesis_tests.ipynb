{
 "cells": [
  {
   "cell_type": "markdown",
   "metadata": {},
   "source": [
    "# Lab: Hypothesis Tests 📔❔\n",
    "In this lab, you will conduct hypothesis tests on the Hello Dataset! \n",
    "\n",
    "A few tips to remember:\n",
    "\n",
    "- Refer to your **lecture notebook** and the **pandas cheat sheet** to help you out with the code!\n",
    "- If you find yourself stuck for more than a few minutes, ask a neighbor or course staff for help! When you are giving help to your neighbor, explain the **idea and approach** to the problem without sharing the answer itself so they can have the same **ah-hah** moment!\n",
    "- We are here to help you! Don't feel embarrassed or shy to ask!\n",
    "\n",
    "Let's get started!"
   ]
  },
  {
   "cell_type": "code",
   "execution_count": 62,
   "metadata": {},
   "outputs": [],
   "source": [
    "# Meet your CAs and TA if you haven't already!\n",
    "# ...first name is enough, we'll know who they are! :)\n",
    "ta_name = \"Daniel\"\n",
    "ca1_name = \"Linh\"\n",
    "ca2_name = \"Eeshan\"\n",
    "\n",
    "\n",
    "# Say hello to each other!\n",
    "# - Groups of 3 are ideal :)\n",
    "# - However, groups of 2 or 4 are fine too!\n",
    "\n",
    "# QOTD to ask your group: What was the best Halloween costume you've seen this year? \n",
    "partner1_name = \"David Mocianko\"\n",
    "partner1_netid = \"dmoci2\"\n",
    "partner1_costume = \"Spiderman\"\n",
    "\n",
    "partner2_name = \"Shane Moncayo\"\n",
    "partner2_netid = \"moncayo3\"\n",
    "partner2_costume = \"Spiderman\"\n",
    "\n",
    "partner3_name = \"Evan Walker\"\n",
    "partner3_netid = \"evanaw3\"\n",
    "partner3_costume = \"Batman\""
   ]
  },
  {
   "cell_type": "markdown",
   "metadata": {},
   "source": [
    "<hr style=\"color: #DD3403;\">"
   ]
  },
  {
   "cell_type": "markdown",
   "metadata": {},
   "source": [
    "# Part 1: Sleep\n",
    "We're going to conduct a hypothesis test using the 2022 Hello Dataset. Specifically, we will determine: \n",
    "- **Do Illinois students get significantly different sleep  the average American?**\n",
    "\n",
    "First, as always, we must import the Hello Dataset. \n",
    "\n",
    "The \"Hello Dataset\" is available here:\n",
    "```\n",
    "https://waf.cs.illinois.edu/discovery/hello-fa22.csv\n",
    "```\n",
    "\n",
    "Use Python to load this dataset into a DataFrame called `df_hello`:"
   ]
  },
  {
   "cell_type": "code",
   "execution_count": 63,
   "metadata": {},
   "outputs": [
    {
     "data": {
      "text/html": [
       "<div>\n",
       "<style scoped>\n",
       "    .dataframe tbody tr th:only-of-type {\n",
       "        vertical-align: middle;\n",
       "    }\n",
       "\n",
       "    .dataframe tbody tr th {\n",
       "        vertical-align: top;\n",
       "    }\n",
       "\n",
       "    .dataframe thead th {\n",
       "        text-align: right;\n",
       "    }\n",
       "</style>\n",
       "<table border=\"1\" class=\"dataframe\">\n",
       "  <thead>\n",
       "    <tr style=\"text-align: right;\">\n",
       "      <th></th>\n",
       "      <th>Name</th>\n",
       "      <th>Lab</th>\n",
       "      <th>Number 1 or Number 2?</th>\n",
       "      <th>Number 3 or Number 5?</th>\n",
       "      <th>What is your preferred way of saying one half?</th>\n",
       "      <th>7UP or Sierra Mist?</th>\n",
       "      <th>Android or iOS?</th>\n",
       "      <th>Apple or Orange?</th>\n",
       "      <th>Beef or Pork?</th>\n",
       "      <th>Your birthday is...</th>\n",
       "      <th>...</th>\n",
       "      <th>What is your favorite coffee shop drink?</th>\n",
       "      <th>What is your favorite mobile app?</th>\n",
       "      <th>What is your favorite subject?</th>\n",
       "      <th>Who is your favorite singer?</th>\n",
       "      <th>What is your favorite season?</th>\n",
       "      <th>What is your Zodiac sign?</th>\n",
       "      <th>What is your favorite video game?</th>\n",
       "      <th>What is your favorite non-video game?</th>\n",
       "      <th>What is your favorite food?</th>\n",
       "      <th>What's your favorite movie?</th>\n",
       "    </tr>\n",
       "  </thead>\n",
       "  <tbody>\n",
       "    <tr>\n",
       "      <th>0</th>\n",
       "      <td>CA Ana</td>\n",
       "      <td>AL1</td>\n",
       "      <td>2.0</td>\n",
       "      <td>5.0</td>\n",
       "      <td>2-Jan</td>\n",
       "      <td>Sierra Mist</td>\n",
       "      <td>iOS</td>\n",
       "      <td>Apple</td>\n",
       "      <td>Pork</td>\n",
       "      <td>On/Before June 30</td>\n",
       "      <td>...</td>\n",
       "      <td>Cold brew</td>\n",
       "      <td>Snapchat</td>\n",
       "      <td>Math</td>\n",
       "      <td>Taylor Swift</td>\n",
       "      <td>Fall</td>\n",
       "      <td>Piceis</td>\n",
       "      <td>Minecraft</td>\n",
       "      <td>Chutes and Ladders</td>\n",
       "      <td>Yogurt</td>\n",
       "      <td>?</td>\n",
       "    </tr>\n",
       "    <tr>\n",
       "      <th>1</th>\n",
       "      <td>CA Ram</td>\n",
       "      <td>AYR</td>\n",
       "      <td>2.0</td>\n",
       "      <td>5.0</td>\n",
       "      <td>2-Jan</td>\n",
       "      <td>7UP</td>\n",
       "      <td>iOS</td>\n",
       "      <td>Apple</td>\n",
       "      <td>NaN</td>\n",
       "      <td>On/After July 1</td>\n",
       "      <td>...</td>\n",
       "      <td>Black coffee</td>\n",
       "      <td>Google chrome</td>\n",
       "      <td>Mathematics</td>\n",
       "      <td>TWICE</td>\n",
       "      <td>Spring</td>\n",
       "      <td>Scorpio</td>\n",
       "      <td>Player Unkown's Battleground</td>\n",
       "      <td>Basketball</td>\n",
       "      <td>Rice</td>\n",
       "      <td>The conjouring</td>\n",
       "    </tr>\n",
       "    <tr>\n",
       "      <th>2</th>\n",
       "      <td>CA Xin</td>\n",
       "      <td>AYO</td>\n",
       "      <td>1.0</td>\n",
       "      <td>5.0</td>\n",
       "      <td>2-Jan</td>\n",
       "      <td>Sierra Mist</td>\n",
       "      <td>iOS</td>\n",
       "      <td>Apple</td>\n",
       "      <td>Beef</td>\n",
       "      <td>On/Before June 30</td>\n",
       "      <td>...</td>\n",
       "      <td>starbucks</td>\n",
       "      <td>Starbucks</td>\n",
       "      <td>Psychology</td>\n",
       "      <td>Five Exercuse</td>\n",
       "      <td>Winter</td>\n",
       "      <td>aquarius</td>\n",
       "      <td>None</td>\n",
       "      <td>None</td>\n",
       "      <td>Eggs</td>\n",
       "      <td>Flipped</td>\n",
       "    </tr>\n",
       "    <tr>\n",
       "      <th>3</th>\n",
       "      <td>Lekha</td>\n",
       "      <td>AYH</td>\n",
       "      <td>2.0</td>\n",
       "      <td>2.0</td>\n",
       "      <td>0.5</td>\n",
       "      <td>7UP</td>\n",
       "      <td>iOS</td>\n",
       "      <td>Orange</td>\n",
       "      <td>Pork</td>\n",
       "      <td>On/After July 1</td>\n",
       "      <td>...</td>\n",
       "      <td>pumpkin spice latte</td>\n",
       "      <td>twitter</td>\n",
       "      <td>english (writing)</td>\n",
       "      <td>lana del rey</td>\n",
       "      <td>autumn</td>\n",
       "      <td>leo</td>\n",
       "      <td>animal crossing</td>\n",
       "      <td>catan</td>\n",
       "      <td>tteokbokki</td>\n",
       "      <td>dune (2021)</td>\n",
       "    </tr>\n",
       "    <tr>\n",
       "      <th>4</th>\n",
       "      <td>Reni</td>\n",
       "      <td>AYD</td>\n",
       "      <td>2.0</td>\n",
       "      <td>5.0</td>\n",
       "      <td>2-Jan</td>\n",
       "      <td>7UP</td>\n",
       "      <td>iOS</td>\n",
       "      <td>Apple</td>\n",
       "      <td>Pork</td>\n",
       "      <td>On/Before June 30</td>\n",
       "      <td>...</td>\n",
       "      <td>Mocha</td>\n",
       "      <td>Instagram</td>\n",
       "      <td>Math</td>\n",
       "      <td>Mark kozelek</td>\n",
       "      <td>Winter</td>\n",
       "      <td>Aquarias</td>\n",
       "      <td>Rainbow six siege</td>\n",
       "      <td>Catan</td>\n",
       "      <td>Tacos</td>\n",
       "      <td>End of Evangelion</td>\n",
       "    </tr>\n",
       "    <tr>\n",
       "      <th>...</th>\n",
       "      <td>...</td>\n",
       "      <td>...</td>\n",
       "      <td>...</td>\n",
       "      <td>...</td>\n",
       "      <td>...</td>\n",
       "      <td>...</td>\n",
       "      <td>...</td>\n",
       "      <td>...</td>\n",
       "      <td>...</td>\n",
       "      <td>...</td>\n",
       "      <td>...</td>\n",
       "      <td>...</td>\n",
       "      <td>...</td>\n",
       "      <td>...</td>\n",
       "      <td>...</td>\n",
       "      <td>...</td>\n",
       "      <td>...</td>\n",
       "      <td>...</td>\n",
       "      <td>...</td>\n",
       "      <td>...</td>\n",
       "      <td>...</td>\n",
       "    </tr>\n",
       "    <tr>\n",
       "      <th>557</th>\n",
       "      <td>Emily</td>\n",
       "      <td>AYF</td>\n",
       "      <td>2.0</td>\n",
       "      <td>5.0</td>\n",
       "      <td>0.5</td>\n",
       "      <td>Sierra Mist</td>\n",
       "      <td>iOS</td>\n",
       "      <td>Apple</td>\n",
       "      <td>Beef</td>\n",
       "      <td>On/Before June 30</td>\n",
       "      <td>...</td>\n",
       "      <td>Caramel Macchiato with oat milk</td>\n",
       "      <td>Tik Tok</td>\n",
       "      <td>History</td>\n",
       "      <td>Taylor Swift</td>\n",
       "      <td>Spring</td>\n",
       "      <td>Capricorn</td>\n",
       "      <td>Just Dance</td>\n",
       "      <td>Trivial Pursuit</td>\n",
       "      <td>Chicken Wings</td>\n",
       "      <td>Sound of Music</td>\n",
       "    </tr>\n",
       "    <tr>\n",
       "      <th>558</th>\n",
       "      <td>Natalia</td>\n",
       "      <td>AYM</td>\n",
       "      <td>1.0</td>\n",
       "      <td>3.0</td>\n",
       "      <td>0.5</td>\n",
       "      <td>Sierra Mist</td>\n",
       "      <td>iOS</td>\n",
       "      <td>Apple</td>\n",
       "      <td>Beef</td>\n",
       "      <td>On/Before June 30</td>\n",
       "      <td>...</td>\n",
       "      <td>Green Tea</td>\n",
       "      <td>Snapchat</td>\n",
       "      <td>Math</td>\n",
       "      <td>Tory Lanez</td>\n",
       "      <td>Fall</td>\n",
       "      <td>Aries</td>\n",
       "      <td>Minecraft</td>\n",
       "      <td>Monopoly</td>\n",
       "      <td>Quesadilla</td>\n",
       "      <td>The King of Staten Island</td>\n",
       "    </tr>\n",
       "    <tr>\n",
       "      <th>559</th>\n",
       "      <td>Abrar</td>\n",
       "      <td>AY)</td>\n",
       "      <td>1.0</td>\n",
       "      <td>3.0</td>\n",
       "      <td>2-Jan</td>\n",
       "      <td>7UP</td>\n",
       "      <td>iOS</td>\n",
       "      <td>Orange</td>\n",
       "      <td>Beef</td>\n",
       "      <td>On/After July 1</td>\n",
       "      <td>...</td>\n",
       "      <td>Chai latte</td>\n",
       "      <td>Clash of Clans</td>\n",
       "      <td>english</td>\n",
       "      <td>Frank Ocean</td>\n",
       "      <td>Spring</td>\n",
       "      <td>Virgo</td>\n",
       "      <td>fortnite</td>\n",
       "      <td>Basketball</td>\n",
       "      <td>Butter Chicken</td>\n",
       "      <td>Goodfellas</td>\n",
       "    </tr>\n",
       "    <tr>\n",
       "      <th>560</th>\n",
       "      <td>Chris</td>\n",
       "      <td>AYA</td>\n",
       "      <td>1.0</td>\n",
       "      <td>3.0</td>\n",
       "      <td>2-Jan</td>\n",
       "      <td>7UP</td>\n",
       "      <td>Android</td>\n",
       "      <td>Orange</td>\n",
       "      <td>Beef</td>\n",
       "      <td>On/After July 1</td>\n",
       "      <td>...</td>\n",
       "      <td>Vanilla Iced Coffee</td>\n",
       "      <td>Instagram</td>\n",
       "      <td>Political Science</td>\n",
       "      <td>The Weeknd</td>\n",
       "      <td>Fall</td>\n",
       "      <td>Capricorn</td>\n",
       "      <td>COD</td>\n",
       "      <td>Catan</td>\n",
       "      <td>Pozole</td>\n",
       "      <td>Good Will Hunting</td>\n",
       "    </tr>\n",
       "    <tr>\n",
       "      <th>561</th>\n",
       "      <td>Jake</td>\n",
       "      <td>ATG</td>\n",
       "      <td>1.0</td>\n",
       "      <td>3.0</td>\n",
       "      <td>0.5</td>\n",
       "      <td>Sierra Mist</td>\n",
       "      <td>iOS</td>\n",
       "      <td>Apple</td>\n",
       "      <td>Beef</td>\n",
       "      <td>On/Before June 30</td>\n",
       "      <td>...</td>\n",
       "      <td>just coffee</td>\n",
       "      <td>Clash Royale</td>\n",
       "      <td>History</td>\n",
       "      <td>Chris Martin</td>\n",
       "      <td>Summer</td>\n",
       "      <td>Tartarus</td>\n",
       "      <td>Battlefield 4</td>\n",
       "      <td>Sorry</td>\n",
       "      <td>Pasta</td>\n",
       "      <td>Goodfellas</td>\n",
       "    </tr>\n",
       "  </tbody>\n",
       "</table>\n",
       "<p>562 rows × 120 columns</p>\n",
       "</div>"
      ],
      "text/plain": [
       "        Name  Lab  Number 1 or Number 2?  Number 3 or Number 5?  \\\n",
       "0     CA Ana  AL1                    2.0                    5.0   \n",
       "1     CA Ram  AYR                    2.0                    5.0   \n",
       "2     CA Xin  AYO                    1.0                    5.0   \n",
       "3      Lekha  AYH                    2.0                    2.0   \n",
       "4       Reni  AYD                    2.0                    5.0   \n",
       "..       ...  ...                    ...                    ...   \n",
       "557    Emily  AYF                    2.0                    5.0   \n",
       "558  Natalia  AYM                    1.0                    3.0   \n",
       "559    Abrar  AY)                    1.0                    3.0   \n",
       "560    Chris  AYA                    1.0                    3.0   \n",
       "561     Jake  ATG                    1.0                    3.0   \n",
       "\n",
       "    What is your preferred way of saying one half? 7UP or Sierra Mist?  \\\n",
       "0                                            2-Jan         Sierra Mist   \n",
       "1                                            2-Jan                 7UP   \n",
       "2                                            2-Jan         Sierra Mist   \n",
       "3                                              0.5                 7UP   \n",
       "4                                            2-Jan                 7UP   \n",
       "..                                             ...                 ...   \n",
       "557                                            0.5         Sierra Mist   \n",
       "558                                            0.5         Sierra Mist   \n",
       "559                                          2-Jan                 7UP   \n",
       "560                                          2-Jan                 7UP   \n",
       "561                                            0.5         Sierra Mist   \n",
       "\n",
       "    Android or iOS? Apple or Orange? Beef or Pork? Your birthday is...  ...  \\\n",
       "0               iOS            Apple          Pork   On/Before June 30  ...   \n",
       "1               iOS            Apple           NaN     On/After July 1  ...   \n",
       "2               iOS            Apple          Beef   On/Before June 30  ...   \n",
       "3               iOS           Orange          Pork     On/After July 1  ...   \n",
       "4               iOS            Apple          Pork   On/Before June 30  ...   \n",
       "..              ...              ...           ...                 ...  ...   \n",
       "557             iOS            Apple          Beef   On/Before June 30  ...   \n",
       "558             iOS            Apple          Beef   On/Before June 30  ...   \n",
       "559             iOS           Orange          Beef     On/After July 1  ...   \n",
       "560         Android           Orange          Beef     On/After July 1  ...   \n",
       "561             iOS            Apple          Beef   On/Before June 30  ...   \n",
       "\n",
       "    What is your favorite coffee shop drink?  \\\n",
       "0                                  Cold brew   \n",
       "1                               Black coffee   \n",
       "2                                  starbucks   \n",
       "3                        pumpkin spice latte   \n",
       "4                                      Mocha   \n",
       "..                                       ...   \n",
       "557          Caramel Macchiato with oat milk   \n",
       "558                                Green Tea   \n",
       "559                               Chai latte   \n",
       "560                      Vanilla Iced Coffee   \n",
       "561                              just coffee   \n",
       "\n",
       "    What is your favorite mobile app? What is your favorite subject?  \\\n",
       "0                            Snapchat                           Math   \n",
       "1                      Google chrome                     Mathematics   \n",
       "2                           Starbucks                     Psychology   \n",
       "3                             twitter              english (writing)   \n",
       "4                           Instagram                           Math   \n",
       "..                                ...                            ...   \n",
       "557                           Tik Tok                        History   \n",
       "558                          Snapchat                           Math   \n",
       "559                    Clash of Clans                        english   \n",
       "560                         Instagram              Political Science   \n",
       "561                      Clash Royale                        History   \n",
       "\n",
       "    Who is your favorite singer? What is your favorite season?  \\\n",
       "0                   Taylor Swift                          Fall   \n",
       "1                          TWICE                        Spring   \n",
       "2                  Five Exercuse                        Winter   \n",
       "3                   lana del rey                        autumn   \n",
       "4                  Mark kozelek                         Winter   \n",
       "..                           ...                           ...   \n",
       "557                 Taylor Swift                        Spring   \n",
       "558                   Tory Lanez                          Fall   \n",
       "559                  Frank Ocean                        Spring   \n",
       "560                   The Weeknd                          Fall   \n",
       "561                 Chris Martin                        Summer   \n",
       "\n",
       "    What is your Zodiac sign? What is your favorite video game?  \\\n",
       "0                      Piceis                         Minecraft   \n",
       "1                     Scorpio      Player Unkown's Battleground   \n",
       "2                    aquarius                              None   \n",
       "3                         leo                   animal crossing   \n",
       "4                    Aquarias                 Rainbow six siege   \n",
       "..                        ...                               ...   \n",
       "557                 Capricorn                        Just Dance   \n",
       "558                     Aries                         Minecraft   \n",
       "559                     Virgo                          fortnite   \n",
       "560                 Capricorn                               COD   \n",
       "561                  Tartarus                     Battlefield 4   \n",
       "\n",
       "    What is your favorite non-video game? What is your favorite food?  \\\n",
       "0                      Chutes and Ladders                      Yogurt   \n",
       "1                              Basketball                        Rice   \n",
       "2                                    None                       Eggs    \n",
       "3                                   catan                  tteokbokki   \n",
       "4                                   Catan                       Tacos   \n",
       "..                                    ...                         ...   \n",
       "557                       Trivial Pursuit               Chicken Wings   \n",
       "558                              Monopoly                  Quesadilla   \n",
       "559                            Basketball              Butter Chicken   \n",
       "560                                 Catan                      Pozole   \n",
       "561                                 Sorry                       Pasta   \n",
       "\n",
       "    What's your favorite movie?  \n",
       "0                             ?  \n",
       "1               The conjouring   \n",
       "2                       Flipped  \n",
       "3                   dune (2021)  \n",
       "4            End of Evangelion   \n",
       "..                          ...  \n",
       "557              Sound of Music  \n",
       "558   The King of Staten Island  \n",
       "559                  Goodfellas  \n",
       "560           Good Will Hunting  \n",
       "561                  Goodfellas  \n",
       "\n",
       "[562 rows x 120 columns]"
      ]
     },
     "execution_count": 63,
     "metadata": {},
     "output_type": "execute_result"
    }
   ],
   "source": [
    "import pandas as pd\n",
    "df_hello = pd.read_csv(\"https://waf.cs.illinois.edu/discovery/hello-fa22.csv\")\n",
    "df_hello"
   ]
  },
  {
   "cell_type": "markdown",
   "metadata": {},
   "source": [
    "### 🔬 Test Case Checkpoint 🔬"
   ]
  },
  {
   "cell_type": "code",
   "execution_count": 64,
   "metadata": {},
   "outputs": [
    {
     "name": "stdout",
     "output_type": "stream",
     "text": [
      "🎉 All tests passed! 🎉\n"
     ]
    }
   ],
   "source": [
    "## == CHECKPOINT TEST CASES ==\n",
    "# - This read-only cell contains test cases for your previous cell.\n",
    "# - If this cell runs without any errors, you PASSED all test cases!\n",
    "# - If this cell results in any errors, check your previous cell, make changes, and RE-RUN your code and then this cell.\n",
    "assert(\"df_hello\" in vars()), \"This is not the Hello dataset you're looking for. Check the URL.\"\n",
    "assert(\"Android or iOS?\" in df_hello), \"This is not the Hello dataset you're looking for. Check the URL.\"\n",
    "assert(len(df_hello) >= 524), \"This is not the Hello dataset you're looking for. Check the URL.\"\n",
    "\n",
    "## == SUCCESS MESSAGE ==\n",
    "# You will only see this message (with the emoji showing) if you passed all test cases:\n",
    "tada = \"\\N{PARTY POPPER}\"\n",
    "print(f\"{tada} All tests passed! {tada}\")"
   ]
  },
  {
   "cell_type": "markdown",
   "metadata": {},
   "source": [
    "\n",
    "### Analysis: Z-Test vs. T-Test.\n",
    "Before we do any hypothesis testing, we must review our testing options and what they mean. \n",
    "\n",
    "**Q: In lecture, you've learned about two different forms of the hypothesis tests: the Z-test and the T-test. When would you use a Z-test over a T-test, and vice-versa?**"
   ]
  },
  {
   "cell_type": "markdown",
   "metadata": {},
   "source": [
    "*(✏️ You would use the T-test over the Z-test when the sample is small, the histogram for the population is close to the normal curve, and the sd of the population is unkown. ✏️)*"
   ]
  },
  {
   "cell_type": "markdown",
   "metadata": {},
   "source": [
    "## Setting Up The Test\n",
    "In 2013, [Gallup completed their latest survey on sleep](https://news.gallup.com/poll/166553/less-recommended-amount-sleep.aspx) that shows that the average amount of sleep Americans get is **6.8 hours**.  \n",
    "\n",
    "To determine whether Illinois students get significantly more or less sleep than the average American, we will treat the **students in DISCOVERY** as a **random sample** of the student population at Illinois. Then, we will conduct a **one-sample, two-sided Z-test** to answer our hypothesis. \n",
    "\n",
    "Before we begin, define our hypotheses. Remember, the average amount of sleep found in Gallup's study is **6.8** hours, and we want to determine if our random sample is **significantly different** from this average. \n",
    "\n",
    "**Q: Write your null and alternative hypothesis using the cell below. Hint: you find the following symbol useful for the alternative hypothesis: $\\neq$** (double-click on this cell to copy it)"
   ]
  },
  {
   "cell_type": "markdown",
   "metadata": {},
   "source": [
    "*(✏️ Null hypothesis: u = 6.8 Alternative Hypothesis: u $\\neq$* 6.8 ✏️)"
   ]
  },
  {
   "cell_type": "markdown",
   "metadata": {},
   "source": [
    "## Puzzle 1.1: Summary Statistics\n",
    "Now that we've defined our hypotheses, we will need to find some basic summary statistics about the average hours of sleep of students in DISCOVERY before we conduct our **Z-test**. Our `df_hello` contains the average hours of sleep of students in DISCOVERY under the column named \"How many hours of sleep do you get on average?\".\n",
    "\n",
    "Assign this column name to a **string variable** named `sleep_question` using the cell below:"
   ]
  },
  {
   "cell_type": "code",
   "execution_count": 65,
   "metadata": {},
   "outputs": [],
   "source": [
    "sleep_question = \"How many hours of sleep do you get on average?\""
   ]
  },
  {
   "cell_type": "markdown",
   "metadata": {},
   "source": [
    "Now, using `sleep_question` and your `df_hello`, find the **mean hours of sleep** of everyone in DISCOVERY, storing the result in the **integer variable** `sleep_mean`:"
   ]
  },
  {
   "cell_type": "code",
   "execution_count": 66,
   "metadata": {},
   "outputs": [],
   "source": [
    "sleep_mean = df_hello[sleep_question].mean()"
   ]
  },
  {
   "cell_type": "markdown",
   "metadata": {},
   "source": [
    "Next, find the **standard deviation** of hours of sleep of everyone in DISCOVERY, storing the result in the **integer variable** `sleep_std`:"
   ]
  },
  {
   "cell_type": "code",
   "execution_count": 67,
   "metadata": {},
   "outputs": [],
   "source": [
    "sleep_std = df_hello[sleep_question].std()"
   ]
  },
  {
   "cell_type": "markdown",
   "metadata": {},
   "source": [
    "Finally, find the **sample size** we're using for this Z-test, storing the result in the **integer variable** `sample_size`. This is the total number of people (rows) in our `df_hello`."
   ]
  },
  {
   "cell_type": "code",
   "execution_count": 68,
   "metadata": {},
   "outputs": [],
   "source": [
    "sample_size = df_hello[sleep_question].count()"
   ]
  },
  {
   "cell_type": "markdown",
   "metadata": {},
   "source": [
    "### 🔬 Test Case Checkpoint 🔬"
   ]
  },
  {
   "cell_type": "code",
   "execution_count": 69,
   "metadata": {},
   "outputs": [
    {
     "name": "stdout",
     "output_type": "stream",
     "text": [
      "🎉 All tests passed! 🎉\n"
     ]
    }
   ],
   "source": [
    "## == CHECKPOINT TEST CASES ==\n",
    "# - This read-only cell contains test cases for your previous cell.\n",
    "# - If this cell runs without any errors, you PASSED all test cases!\n",
    "# - If this cell results in any errors, check your previous cell, make changes, and RE-RUN your code and then this cell.\n",
    "import math\n",
    "names = ['sleep_question', 'sleep_mean', 'sleep_std', 'sample_size']\n",
    "for name in names:\n",
    "    assert(name in vars()), \"Double check that your variables are named correctly.\"\n",
    "assert(math.isclose(df_hello[sleep_question].var(), 3.467854048121978)),\"Double check the column question text you've defined in 'sleep_question'.\" \n",
    "assert(math.isclose(sleep_mean, 7.21423487544484)), \"Your 'sleep_mean' is incorrect.\"\n",
    "assert(math.isclose(sleep_std, 1.8622175082739336)), \"Your 'sleep_std' is incorrect.\"\n",
    "assert(sample_size**2 / 8 == 39480.5), \"Your 'sample_size' is incorrect.\"\n",
    "\n",
    "## == SUCCESS MESSAGE ==\n",
    "# You will only see this message (with the emoji showing) if you passed all test cases:\n",
    "tada = \"\\N{PARTY POPPER}\"\n",
    "print(f\"{tada} All tests passed! {tada}\")"
   ]
  },
  {
   "cell_type": "markdown",
   "metadata": {},
   "source": [
    "## Puzzle 1.2: Finding our P-value\n",
    "Now that we've **calculated and stored** the necessary statistics, we can begin calculating the **P-value** and drawing conclusions about our hypothesis. For the purposes of this lab, we will utilize a significance level of $0.05$. \n",
    "\n",
    "To begin, **run the following import statements**: "
   ]
  },
  {
   "cell_type": "code",
   "execution_count": 70,
   "metadata": {},
   "outputs": [],
   "source": [
    "import scipy.stats\n",
    "import numpy as np"
   ]
  },
  {
   "cell_type": "markdown",
   "metadata": {},
   "source": [
    "This imports the `scipy.stats` library and `numpy` as `np`, containing functions necessary to calculate our complex statistics and normal distribution values. \n",
    "\n",
    "In the case that the `scipy` module is not found:\n",
    "- If you are on Windows, open the **terminal** and run `py -m pip install scipy`\n",
    "- If you are on Mac (OS X): open the **terminal** and run  `python3 -m pip install scipy`"
   ]
  },
  {
   "cell_type": "markdown",
   "metadata": {},
   "source": [
    "---\n",
    "\n",
    "Now, calculate the **standard error** in the hours of sleep, storing the result in the **integer variable** `standard_error`. \n",
    "\n",
    "Remember: $SE = \\frac{SD}{\\sqrt{n}}$, where $SE$ is standard error, $SD$ is standard deviation, and $n$ is the sample size. \n",
    "\n",
    "You should use the `.sqrt()` function from `numpy`. As an example, using `numpy` to find the square root of $4$ looks like: `np.sqrt(4)`"
   ]
  },
  {
   "cell_type": "code",
   "execution_count": 71,
   "metadata": {},
   "outputs": [],
   "source": [
    "standard_error = sleep_std/np.sqrt(sample_size)"
   ]
  },
  {
   "cell_type": "markdown",
   "metadata": {},
   "source": [
    "Next, **calculate our test statistic** given the `sleep_mean` and `standard_error` found above, storing the result in the **integer variable** `z_stat`. \n",
    "\n",
    "Remember: $z = \\frac{value - EV}{SE}$, where $z$ is the z-statistic, $value$ is the mean of the data, $EV$ is the expected value, and $SE$ is the standard error. Our **expected value** is the national average of sleep mentioned above (6.8 hours)."
   ]
  },
  {
   "cell_type": "code",
   "execution_count": 72,
   "metadata": {},
   "outputs": [],
   "source": [
    "z_stat =  (sleep_mean - 6.8)/standard_error"
   ]
  },
  {
   "cell_type": "markdown",
   "metadata": {},
   "source": [
    "Finally, we can calculate our P-value! Find it and store our p-value in the **integer variable** `p_value`.\n",
    "\n",
    "This would be the area to the **left or right** of our `z-stat` on the **normal distribution**.\n",
    "\n",
    "We can use the fuction `scipy.stats.norm.cdf()` to find areas of the normal distribution. \n",
    "\n",
    "In the cell below, use your `z-stat` as an **input parameter** to the `scipy.stats.norm.cdf()` function, but remember to **double** the result because we are doing a **two-sided** Z-test. \n"
   ]
  },
  {
   "cell_type": "code",
   "execution_count": 73,
   "metadata": {},
   "outputs": [
    {
     "data": {
      "text/plain": [
       "1.3397511522406091e-07"
      ]
     },
     "execution_count": 73,
     "metadata": {},
     "output_type": "execute_result"
    }
   ],
   "source": [
    "p_value = (1 - scipy.stats.norm.cdf(z_stat))*2\n",
    "p_value"
   ]
  },
  {
   "cell_type": "markdown",
   "metadata": {},
   "source": [
    "Remember, the P-value is the probability of getting the data we have in DISCOVERY's `df_hello` or something even more extreme **if the null were true**. We default to **\"accepting\"** the **null** hypothesis if the P-value is **less than** our threshold of $0.05$. Although statisticians prefer we say **do not reject** the null instead of accept."
   ]
  },
  {
   "cell_type": "markdown",
   "metadata": {},
   "source": [
    "### 🔬 Test Case Checkpoint 🔬"
   ]
  },
  {
   "cell_type": "code",
   "execution_count": 74,
   "metadata": {},
   "outputs": [
    {
     "name": "stdout",
     "output_type": "stream",
     "text": [
      "🎉 All tests passed! 🎉\n"
     ]
    }
   ],
   "source": [
    "## == CHECKPOINT TEST CASES ==\n",
    "# - This read-only cell contains test cases for your previous cell.\n",
    "# - If this cell runs without any errors, you PASSED all test cases!\n",
    "# - If this cell results in any errors, check your previous cell, make changes, and RE-RUN your code and then this cell.\n",
    "names = ['standard_error', 'z_stat', 'p_value']\n",
    "for name in names:\n",
    "    assert(name in vars()), \"Double check that your variables are named correctly.\"\n",
    "assert(math.isclose(standard_error, 0.07855290449428019)), \"Your 'standard_error' is incorrect.\"\n",
    "assert(math.isclose(z_stat, 5.273323476855054)), \"Your 'z_stat' is incorrect.\"\n",
    "assert(math.isclose(p_value, 1.3397511522406091e-07)), \"Your 'p_value' is incorrect. Try and visualize the normal distribution and the areas to the left or right of your z-stat.\"\n",
    "\n",
    "## == SUCCESS MESSAGE ==\n",
    "# You will only see this message (with the emoji showing) if you passed all test cases:\n",
    "tada = \"\\N{PARTY POPPER}\"\n",
    "print(f\"{tada} All tests passed! {tada}\")"
   ]
  },
  {
   "cell_type": "markdown",
   "metadata": {},
   "source": [
    "### Analysis: Interpretation \n",
    "**Q: We have now observed the P-value for our hypothesis test. Do we reject or not reject the null hypothesis? Why, and what does this mean in the context of our original question: Do Illinois students get significantly different sleep the average American? Ensure you answer *both* questions.** \n",
    "\n",
    "Remember, our significance level is $0.05$.\n",
    "\n"
   ]
  },
  {
   "cell_type": "markdown",
   "metadata": {},
   "source": [
    "*(✏️ We reject the null hypothesis because our p-value is less than the significance level. Illinois students do get a significantly different sleep than the average American.✏️)*"
   ]
  },
  {
   "cell_type": "markdown",
   "metadata": {},
   "source": [
    "## Doing it in Python\n",
    "We had to do a significant amount of calculations by hand to find our P-value. \n",
    "\n",
    "Luckily, Python has a few **libraries** which contain **functions** that allow us to conduct our hypothesis tests without calculating by hand. \n",
    "\n",
    "Before we run these hypothesis test functions, we must **install** and `import` the library they belong to. \n",
    "\n",
    "To install the `statsmodels` library, try running one of the following commands in your **terminal** until successful installation:\n",
    "- `pip install statsmodels`\n",
    "- `pip3 install statsmodels`\n",
    "- `py -m pip install statsmodels`\n",
    "- `python3 -m pip install statsmodels`\n",
    "\n",
    "\n",
    "Then, **run** the following `import` statement:"
   ]
  },
  {
   "cell_type": "code",
   "execution_count": 75,
   "metadata": {},
   "outputs": [],
   "source": [
    "from statsmodels.stats import weightstats"
   ]
  },
  {
   "cell_type": "markdown",
   "metadata": {},
   "source": [
    "This imports the `weightstats` class from the `statsmodels.stats` library, containing the function we need to perform **Z-tests** in Python.\n",
    "\n",
    "The function we will be using is `weightstats.ztest()`. Our use of this function will take **three parameters** in the following order:\n",
    "1. A `list` of sampled values\n",
    "2. The **expected value** of the null hypothesis, specified using `value=`\n",
    "3. The **alternative hypothesis** to the null value (either 'two-sided', 'larger', or 'smaller', specified using `alternative=`)\n",
    "\n",
    "To learn more about **Z-test function**, visit: https://www.statsmodels.org/dev/generated/statsmodels.stats.weightstats.ztest.html\n"
   ]
  },
  {
   "cell_type": "markdown",
   "metadata": {},
   "source": [
    "## Puzzle 1.3: List of Sleep\n",
    "\n",
    "Because our function requires a `list` type for the first parameter and **not** a `DataFrame`, we need to convert the numerical answers to our sleep question in `df_hello` to a list. \n",
    "\n",
    "Using the cell below, create a `list` type variable named `list_sleep`, containing a `list` of all the values within `df_hello`'s `sleep_question` column. Hint: call the `.to_list()` function. "
   ]
  },
  {
   "cell_type": "code",
   "execution_count": 76,
   "metadata": {},
   "outputs": [],
   "source": [
    "list_sleep = df_hello[sleep_question].to_list()"
   ]
  },
  {
   "cell_type": "markdown",
   "metadata": {},
   "source": [
    "### 🔬 Test Case Checkpoint 🔬"
   ]
  },
  {
   "cell_type": "code",
   "execution_count": 77,
   "metadata": {},
   "outputs": [
    {
     "name": "stdout",
     "output_type": "stream",
     "text": [
      "🎉 All tests passed! 🎉\n"
     ]
    }
   ],
   "source": [
    "## == CHECKPOINT TEST CASES ==\n",
    "# - This read-only cell contains test cases for your previous cell.\n",
    "# - If this cell runs without any errors, you PASSED all test cases!\n",
    "# - If this cell results in any errors, check your previous cell, make changes, and RE-RUN your code and then this cell.\n",
    "assert('list_sleep' in vars()), \"Double check your variable name for the list of values within df_hello's sleep column. It should be named 'list_sleep'.\"\n",
    "assert(list_sleep[107] == 6.0), \"The values in 'list_sleep' are incorrect. Make sure you are selecting the correct column and converting it to a list.\"\n",
    "\n",
    "## == SUCCESS MESSAGE ==\n",
    "# You will only see this message (with the emoji showing) if you passed all test cases:\n",
    "tada = \"\\N{PARTY POPPER}\"\n",
    "print(f\"{tada} All tests passed! {tada}\")"
   ]
  },
  {
   "cell_type": "markdown",
   "metadata": {},
   "source": [
    "## Puzzle 1.4: Z-test in Python\n",
    "Now, let's run the our Z-test! Using the cell below, call the `weightstats.ztest()` function to conduct our Z-test and store the results in the variable `sleep_results`.\n",
    "\n",
    "Remember, our usage of `weightstats.ztest()` takes **three parameters**. Calling it will look like:\n",
    "\n",
    "`weightstats.ztest(list, value=..., alternative=...) `\n",
    "\n",
    "Use your knowledge about our **type of hypothesis test** and the **national sleep average** to fill in the `...`"
   ]
  },
  {
   "cell_type": "code",
   "execution_count": 78,
   "metadata": {},
   "outputs": [],
   "source": [
    "sleep_results = weightstats.ztest(list_sleep, value= 6.8, alternative = \"two-sided\")"
   ]
  },
  {
   "cell_type": "markdown",
   "metadata": {},
   "source": [
    "If you print `sleep_result`, it should be a pair of **two values** in the form of $(z, p)$ where $z$ is the `z-stat` and $p$ is the `p-value`. If done correctly, these values should be **almost identical** to what you calculated by hand. "
   ]
  },
  {
   "cell_type": "markdown",
   "metadata": {},
   "source": [
    "### 🔬 Test Case Checkpoint 🔬"
   ]
  },
  {
   "cell_type": "code",
   "execution_count": 79,
   "metadata": {},
   "outputs": [
    {
     "name": "stdout",
     "output_type": "stream",
     "text": [
      "🎉 All tests passed! 🎉\n"
     ]
    }
   ],
   "source": [
    "## == CHECKPOINT TEST CASES ==\n",
    "# - This read-only cell contains test cases for your previous cell.\n",
    "# - If this cell runs without any errors, you PASSED all test cases!\n",
    "# - If this cell results in any errors, check your previous cell, make changes, and RE-RUN your code and then this cell.\n",
    "assert('sleep_results' in vars()), \"Double check your variable name for z-test result. It should be named 'sleep_results'.\"\n",
    "assert(math.isclose(sleep_results[0], 5.273323476855037)), \"The z-stat of your Z-test is incorrect.\"\n",
    "assert(math.isclose(sleep_results[1], 1.3397511513885046e-07)), \"The p-value of your Z-test is incorrect.\"\n",
    "assert(math.isclose(sleep_results[0], z_stat)), \"Your z-stat from sleep_result should be equivalent to the 'z_stat' variable defined earlier.\"\n",
    "assert(math.isclose(sleep_results[1], p_value)), \"Your p-value from sleep_result should be equivalent to the 'p-value' variable defined earlier.\"\n",
    "\n",
    "## == SUCCESS MESSAGE ==\n",
    "# You will only see this message (with the emoji showing) if you passed all test cases:\n",
    "tada = \"\\N{PARTY POPPER}\"\n",
    "print(f\"{tada} All tests passed! {tada}\")"
   ]
  },
  {
   "cell_type": "markdown",
   "metadata": {},
   "source": [
    "## Puzzle 1.5: Well-Traveled\n",
    "Our knowledge of the `weightstats.ztest()` function from above lets us conduct a hypothesis test with ease. The next question we'll answer with a Z-test is:\n",
    "- **Assuming the average college student has been to $5$ countries, are students at Illinois *more* well-traveled than the average college student?**\n",
    "\n",
    "In Puzzles 1.2 and 1.3, we conducted a **two-sided Z-test**, meaning we'd **reject the null** if a value was significantly **less ***or*** greater** than expected. Now, we will conduct a **one-sided Z-test**, meaning we are trying to determine if something is **solely larger** or **solely smaller** than expected. "
   ]
  },
  {
   "cell_type": "markdown",
   "metadata": {},
   "source": [
    "### Defining Our Hypotheses\n",
    "**Q: Define the null and alternative hypotheses using the cell below. Remember, we assume the average college student has been to $5$ countries and believe Illinois students are *more* well-traveled.**\n",
    "\n"
   ]
  },
  {
   "cell_type": "markdown",
   "metadata": {},
   "source": [
    "*(✏️ null: u = 5 alt: u>5 ✏️)*"
   ]
  },
  {
   "cell_type": "markdown",
   "metadata": {},
   "source": [
    "We can assume again that our Hello Dataset is equivalent to a **random sample** of Illinois students. Conveniently, `df_hello` contains the number of countries students have been to under the **column** named `\"How many countries have you been to outside the US?\"`.\n",
    "\n",
    "To begin, assign this column name to a **string variable** named `travel_question` using the cell below:"
   ]
  },
  {
   "cell_type": "code",
   "execution_count": 80,
   "metadata": {},
   "outputs": [],
   "source": [
    "travel_question = \"How many countries have you been to outside the US?\""
   ]
  },
  {
   "cell_type": "markdown",
   "metadata": {},
   "source": [
    "There's something a little tricky about the data we have in this column. Some people haven't filled out the answer to this open-ended question, causing `NaN` (empty) values to appear. Dealing with **null values** is a **common occurence** in Data Science. We'll have to **chain** a simple **data cleaning** step before the `to_list()` function we used earlier.\n",
    "\n",
    "\n",
    "\n",
    "Using the `.dropna()` and `.to_list()` functions create a new `list` named `travels_list` containing only values from rows **without null (NaN) answers** to our `travel_question`.\n",
    "\n",
    "**Hint:** Your solution should follow the syntax of `df[column].dropna().to_list()`"
   ]
  },
  {
   "cell_type": "code",
   "execution_count": 81,
   "metadata": {},
   "outputs": [],
   "source": [
    "travels_list = df[travel_question].dropna().to_list()"
   ]
  },
  {
   "cell_type": "markdown",
   "metadata": {},
   "source": [
    "### 🔬 Test Case Checkpoint 🔬"
   ]
  },
  {
   "cell_type": "code",
   "execution_count": 82,
   "metadata": {},
   "outputs": [
    {
     "name": "stdout",
     "output_type": "stream",
     "text": [
      "🎉 All tests passed! 🎉\n"
     ]
    }
   ],
   "source": [
    "## == CHECKPOINT TEST CASES ==\n",
    "# - This read-only cell contains test cases for your previous cell.\n",
    "# - If this cell runs without any errors, you PASSED all test cases!\n",
    "# - If this cell results in any errors, check your previous cell, make changes, and RE-RUN your code and then this cell.\n",
    "assert('travel_question' in vars()), \"Double check your variable containing the column name of the travel question is 'travel_question'. \"\n",
    "assert('travels_list' in vars()), \"Double check your list of countries travelled is named 'travels_list'.\"\n",
    "check_nan = list(bool(string) for string in np.isnan(travels_list))\n",
    "assert(len([1 for value in check_nan if value == True]) == 0), \"Double check that you've cleaned the NaN values from travels_list. Make sure you're using the .dropna() function.\"\n",
    "assert(travels_list[107] == 2.0), \"The values in 'travels_list' are incorrect. Make sure you are selecting the correct column and converting it to a list.\"\n",
    "\n",
    "## == SUCCESS MESSAGE ==\n",
    "# You will only see this message (with the emoji showing) if you passed all test cases:\n",
    "tada = \"\\N{PARTY POPPER}\"\n",
    "print(f\"{tada} All tests passed! {tada}\")"
   ]
  },
  {
   "cell_type": "markdown",
   "metadata": {},
   "source": [
    "Now we have everything ready to conduct our **one-sided Z-test**. \n",
    "\n",
    "Using the cell below, call the `weightstats.ztest()` function to conduct our **one-sided Z-test**, storing the results in the variable `travel_results`.\n",
    "\n",
    "Our usage of `weightstats.ztest()` takes **three parameters**. Calling it will look like:\n",
    "\n",
    "`weightstats.ztest(list, value=..., alternative=...) `\n",
    "\n",
    "Remember we are conducting a **one-sided** test to determine whether Illinois students travel **more** than the **assumed $5$ countries** the average student has been to. "
   ]
  },
  {
   "cell_type": "code",
   "execution_count": 83,
   "metadata": {},
   "outputs": [],
   "source": [
    "travel_results = weightstats.ztest(travels_list, value = 5, alternative = \"larger\")"
   ]
  },
  {
   "cell_type": "markdown",
   "metadata": {},
   "source": [
    "### 🔬 Test Case Checkpoint 🔬"
   ]
  },
  {
   "cell_type": "code",
   "execution_count": 84,
   "metadata": {},
   "outputs": [
    {
     "name": "stdout",
     "output_type": "stream",
     "text": [
      "🎉 All tests passed! 🎉\n"
     ]
    }
   ],
   "source": [
    "## == CHECKPOINT TEST CASES ==\n",
    "# - This read-only cell contains test cases for your previous cell.\n",
    "# - If this cell runs without any errors, you PASSED all test cases!\n",
    "# - If this cell results in any errors, check your previous cell, make changes, and RE-RUN your code and then this cell.\n",
    "assert('travel_results' in vars()), \"Double check your variable name for z-test result. It should be named 'travel_results'.\"\n",
    "assert(math.isclose(travel_results[0], 0.5626652573109842)), \"The z-stat of your Z-test is incorrect.\"\n",
    "assert(math.isclose(travel_results[1], 0.28683142314757104)), \"The p-value of your Z-test is incorrect.\"\n",
    "\n",
    "## == SUCCESS MESSAGE ==\n",
    "# You will only see this message (with the emoji showing) if you passed all test cases:\n",
    "tada = \"\\N{PARTY POPPER}\"\n",
    "print(f\"{tada} All tests passed! {tada}\")"
   ]
  },
  {
   "cell_type": "markdown",
   "metadata": {},
   "source": [
    "### Analysis: Interpretation \n",
    "**Q: We have now observed the P-value for our hypothesis test. Do we reject or accept the null hypothesis? Why, and what does this mean in the context of our original question: Are students at Illinois more well-traveled than the average college student? Ensure you answer *both* questions.** \n",
    "\n",
    "Remember, our significance level is $0.05$.\n",
    "\n"
   ]
  },
  {
   "cell_type": "markdown",
   "metadata": {},
   "source": [
    "*(✏️ We are not rejecting the null hypothesis because our p-value is greater than the significance level. This means that students at Illinois have similar travel as the average college student.  ✏️)*"
   ]
  },
  {
   "cell_type": "markdown",
   "metadata": {},
   "source": [
    "<hr style=\"color: #DD3403;\">"
   ]
  },
  {
   "cell_type": "markdown",
   "metadata": {},
   "source": [
    "# Part 2: Happiness and Credit Hours\n",
    "The other type of hypothesis test that you've learned in lecture is the **T-test**. We can perform the **T-test** in Python as well. \n",
    "\n",
    "Taking random samples of student subgroups from `df_hello`, we may answer the following question:\n",
    "- **Are students who take less credit hours significantly *happier* than students who take more?**\n",
    "\n",
    "To answer, we will perform a **one-sided two-sample T-test**. "
   ]
  },
  {
   "cell_type": "markdown",
   "metadata": {},
   "source": [
    "## Puzzle 2.1: Setting Up\n",
    "We'll be using the the `scipy.stats.ttest_ind()` function to conduct our T-test. Fortunately, the `scipy.stats` module has already been imported from Puzzle 1.2 earlier.\n",
    "\n",
    "To make our code **simpler and readable**, in the next cell, create two variables for future column subselection from our `df_hello`:\n",
    "1. A **string variable** named `credits_question`, containing the **string**: \"How many credit hours are you taking this semester?.1\"\n",
    "2. A **string variable** named `happiness_question`, containing the **string**: \"From 1 to 10, how happy are you right now?\""
   ]
  },
  {
   "cell_type": "code",
   "execution_count": 85,
   "metadata": {},
   "outputs": [],
   "source": [
    "credits_question = \"How many credit hours are you taking this semester?.1\"\n",
    "happiness_question = \"From 1 to 10, how happy are you right now?\""
   ]
  },
  {
   "cell_type": "markdown",
   "metadata": {},
   "source": [
    "Next, using `credits_question`, create **two** new `DataFrames`: \n",
    "- `df_many_credits`, containing the rows from `df_hello` with students taking **15 or more** credit hours. \n",
    "- `df_less_credits`, containing the rows from `df_hello` with students taking **less than 15** credit hours."
   ]
  },
  {
   "cell_type": "code",
   "execution_count": 86,
   "metadata": {},
   "outputs": [],
   "source": [
    "df_many_credits = df_hello[df_hello[\"How many credit hours are you taking this semester?.1\"] >= 15]\n",
    "df_less_credits = df_hello[df_hello[\"How many credit hours are you taking this semester?.1\"] < 15]"
   ]
  },
  {
   "cell_type": "markdown",
   "metadata": {},
   "source": [
    "We will take **random samples** from our `df_many_credits` and `df_less_credits` to be used for our **T-test**.\n",
    "\n",
    "In the following cell, define the following two new `DataFrames` containing our samples:\n",
    "- `df_many_sample`, containing 20 random rows from `df_many_credits`\n",
    "- `df_less_sample`, containing 20 random rows from `df_less_credits` "
   ]
  },
  {
   "cell_type": "code",
   "execution_count": 87,
   "metadata": {},
   "outputs": [],
   "source": [
    "df_many_sample = df_many_credits.sample(n=20)\n",
    "df_less_sample = df_less_credits.sample(n=20)"
   ]
  },
  {
   "cell_type": "markdown",
   "metadata": {},
   "source": [
    "Finally, we need to convert our `df_many_sample` and `df_less_sample` from `DataFrame` types to `list` types. \n",
    "\n",
    "Using `.to_list()`, define the following two `list` variables:\n",
    "- `many_happy`, the `list` of values in from the `happiness_question` column of `df_many_sample`\n",
    "- `less_happy`, the `list` of values in from the `happiness_question` column of `df_less_sample`\n"
   ]
  },
  {
   "cell_type": "code",
   "execution_count": 88,
   "metadata": {},
   "outputs": [],
   "source": [
    "many_happy = df_many_sample[happiness_question].to_list()\n",
    "less_happy = df_less_sample[happiness_question].to_list()"
   ]
  },
  {
   "cell_type": "markdown",
   "metadata": {},
   "source": [
    "### 🔬 Test Case Checkpoint 🔬"
   ]
  },
  {
   "cell_type": "code",
   "execution_count": 89,
   "metadata": {},
   "outputs": [
    {
     "name": "stdout",
     "output_type": "stream",
     "text": [
      "🎉 All tests passed! 🎉\n"
     ]
    }
   ],
   "source": [
    "## == CHECKPOINT TEST CASES ==\n",
    "# - This read-only cell contains test cases for your previous cell.\n",
    "# - If this cell runs without any errors, you PASSED all test cases!\n",
    "# - If this cell results in any errors, check your previous cell, make changes, and RE-RUN your code and then this cell.\n",
    "names = ['credits_question', 'happiness_question', 'df_many_credits', 'df_less_credits', 'df_many_sample', 'df_less_sample', 'many_happy', 'less_happy']\n",
    "for name in names:\n",
    "    assert(name in vars()), \"Double check that your variables are named correctly.\"\n",
    "assert(math.isclose(df_hello[credits_question].std(), 1.8867534755813031)),\"Double check the column question text you've defined in 'credits_question'.\" \n",
    "assert(math.isclose(df_hello[happiness_question].var(), 3.574172389251171)),\"Double check the column question text you've defined in 'happiness_question'.\" \n",
    "assert(len(df_many_credits) == 477), \"Double check the conditionals used to create df_many_credits. You should be creating a DataFrame of students taking 15 or more credit hours.\"\n",
    "assert(len(df_less_credits) == 82), \"Double check the conditionals used to create df_less_credits. You should be creating a DataFrame of students taking less than 15 credit hours.\"\n",
    "assert(len(df_many_sample) == 20 and len(df_less_sample) == 20), \"You're sampling an incorrect number of rows from df_many_sample or df_less_sample.\"\n",
    "assert(type(many_happy) == list and type(less_happy) == list), \"The many_happy and less_happy variables should be list. Make sure you are using .to_list()\"\n",
    "for val in many_happy:\n",
    "    assert(1 <= val <= 10), \"Check the column you're using to populate many_happy. You should be using the happiness_question variable from earlier.\"\n",
    "for val in less_happy:\n",
    "    assert(1 <= val <= 10), \"Check the column you're using to populate less_happy. You should be using the happiness_question variable from earlier.\"\n",
    "\n",
    "## == SUCCESS MESSAGE ==\n",
    "# You will only see this message (with the emoji showing) if you passed all test cases:\n",
    "tada = \"\\N{PARTY POPPER}\"\n",
    "print(f\"{tada} All tests passed! {tada}\")"
   ]
  },
  {
   "cell_type": "markdown",
   "metadata": {},
   "source": [
    "## Puzzle 2.2: Conducting the Test\n",
    "Now we have the samples we need for our **two-sample T-test**.\n",
    "\n",
    "The `scipy.stats.ttest_ind()` takes a minimum of **two parameters**: the two samples of the dataset. But, we need to specify an additional one: our **alternative hypothesis** using `alternative=`. To read more about the T-test function, visit: https://docs.scipy.org/doc/scipy/reference/generated/scipy.stats.ttest_ind.html\n",
    "\n",
    "By default, the null hypothesis of `scipy.stats.ttest_ind()` is that the 2 samples have **identical** average (expected) values. Because we're testing whether students with ***more* credit hours** are ***less* happy**, our **alternative** hypothesis is that `many_happy` has ***less*** happiness.\n",
    "\n",
    "Below, **calculate and print** the T-test statistic and P-value using `scipy.stats.ttest_ind()`, storing results in the variable `happy_results`. Your solution should syntactically look like: \n",
    "\n",
    "`scipy.stats.ttest_ind(many sample, less sample, alternative=...)`\n",
    "\n",
    "Note that **parameter order matters** when calling this function. Ensure you're following the example syntax directly above. "
   ]
  },
  {
   "cell_type": "code",
   "execution_count": 92,
   "metadata": {},
   "outputs": [],
   "source": [
    "happy_results = scipy.stats.ttest_ind(many_happy,less_happy,alternative=\"less\")"
   ]
  },
  {
   "cell_type": "markdown",
   "metadata": {},
   "source": [
    "### 🔬 Test Case Checkpoint 🔬"
   ]
  },
  {
   "cell_type": "code",
   "execution_count": 93,
   "metadata": {},
   "outputs": [
    {
     "name": "stdout",
     "output_type": "stream",
     "text": [
      "🎉 All tests passed! 🎉\n"
     ]
    }
   ],
   "source": [
    "## == CHECKPOINT TEST CASES ==\n",
    "# - This read-only cell contains test cases for your previous cell.\n",
    "# - If this cell runs without any errors, you PASSED all test cases!\n",
    "# - If this cell results in any errors, check your previous cell, make changes, and RE-RUN your code and then this cell.\n",
    "assert('happy_results' in vars()), \"Double check your variable name for t-test result. It should be named 'happy_results'.\"\n",
    "# NOTE: There are no tests on the values within happy_results due to the usage of random sampling. \n",
    "\n",
    "## == SUCCESS MESSAGE ==\n",
    "# You will only see this message (with the emoji showing) if you passed all test cases:\n",
    "tada = \"\\N{PARTY POPPER}\"\n",
    "print(f\"{tada} All tests passed! {tada}\")"
   ]
  },
  {
   "cell_type": "markdown",
   "metadata": {},
   "source": [
    "### Analysis: Interpretation \n",
    "**Q: We have now observed the P-value for our hypothesis test. Do we reject or not reject the null hypothesis? Why, and what does this mean in the context of our original question: Are students who take less credit hours significantly happier than students who take more? Ensure you answer *both* questions**.\n",
    "\n",
    "Remember, our significance level is $0.05$.\n"
   ]
  },
  {
   "cell_type": "markdown",
   "metadata": {},
   "source": [
    "*(✏️ We are not rejecting that the null hypothesis because the P-Value is greater than the significance level.  ✏️)*"
   ]
  },
  {
   "cell_type": "markdown",
   "metadata": {},
   "source": [
    "<hr style=\"color: #DD3403;\">"
   ]
  },
  {
   "cell_type": "markdown",
   "metadata": {},
   "source": [
    "# Submission\n",
    "\n",
    "You're almost done!  All you need to do is to commit your lab to GitHub:\n",
    "\n",
    "1.  ⚠️ **Make certain to save your work.** ⚠️ To do this, go to **File => Save All**\n",
    "\n",
    "2.  After you have saved, exit this notebook and follow the Canvas instructions to commit this lab to your Git repository!\n",
    "\n",
    "3. Your TA will grade your submission and provide you feedback after the lab is due. :)"
   ]
  }
 ],
 "metadata": {
  "kernelspec": {
   "display_name": "Python 3.10.6 64-bit",
   "language": "python",
   "name": "python3"
  },
  "language_info": {
   "codemirror_mode": {
    "name": "ipython",
    "version": 3
   },
   "file_extension": ".py",
   "mimetype": "text/x-python",
   "name": "python",
   "nbconvert_exporter": "python",
   "pygments_lexer": "ipython3",
   "version": "3.10.6"
  },
  "orig_nbformat": 4,
  "vscode": {
   "interpreter": {
    "hash": "aee8b7b246df8f9039afb4144a1f6fd8d2ca17a180786b69acc140d282b71a49"
   }
  }
 },
 "nbformat": 4,
 "nbformat_minor": 2
}
